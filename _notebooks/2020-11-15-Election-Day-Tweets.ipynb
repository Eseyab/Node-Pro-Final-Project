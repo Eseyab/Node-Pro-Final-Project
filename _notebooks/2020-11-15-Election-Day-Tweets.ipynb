{
  "nbformat": 4,
  "nbformat_minor": 0,
  "metadata": {
    "accelerator": "GPU",
    "colab": {
      "name": "Node Pro.ipynb",
      "provenance": [],
      "collapsed_sections": []
    },
    "kernelspec": {
      "display_name": "Python 3",
      "name": "python3"
    }
  },
  "cells": [
    {
      "cell_type": "markdown",
      "metadata": {
        "id": "1h03qPylKoFY"
      },
      "source": [
        "# \"2016 Election Day Tweets\""
      ]
    },
    {
      "cell_type": "code",
      "metadata": {
        "id": "wBemdLhPpY8p",
        "outputId": "04d487ce-af6f-41d0-c2b7-e8452f089572",
        "colab": {
          "base_uri": "https://localhost:8080/",
          "height": 52
        }
      },
      "source": [
        "'''\n",
        "Features:\n",
        "-user.favourites_count\n",
        "-user.statuses_count\n",
        "-user.created_at\n",
        "-user.followers_count\n",
        "-user.friends_count\n",
        "-favorite_count\n",
        "-retweet_count\n",
        "\n",
        "-user.description (text analysis, entity tagging (if there are a lot of organizations could be a predictor))\n",
        "-text (analysis of the tweet)\n",
        "\n",
        "-user.verified \n",
        "'''"
      ],
      "execution_count": null,
      "outputs": [
        {
          "output_type": "execute_result",
          "data": {
            "application/vnd.google.colaboratory.intrinsic+json": {
              "type": "string"
            },
            "text/plain": [
              "'\\nFeatures:\\n-user.favourites_count\\n-user.statuses_count\\n-user.created_at\\n-user.followers_count\\n-user.friends_count\\n-favorite_count\\n-retweet_count\\n\\n-user.description (text analysis, entity tagging (if there are a lot of organizations could be a predictor))\\n-text (analysis of the tweet)\\n\\n-user.verified \\n'"
            ]
          },
          "metadata": {
            "tags": []
          },
          "execution_count": 15
        }
      ]
    },
    {
      "cell_type": "markdown",
      "metadata": {
        "id": "l-2EocOa97RD"
      },
      "source": [
        "**Identifying Verified Users in 2016 Election Day Tweets**\n",
        "\n",
        "The goal of this project is to evaluate different classification algorithms to identify verified Twitter users in a dataset of 400,000 tweets."
      ]
    },
    {
      "cell_type": "markdown",
      "metadata": {
        "id": "NAK6uGu--Sz3"
      },
      "source": [
        "**Imports**"
      ]
    },
    {
      "cell_type": "code",
      "metadata": {
        "id": "Rp0aDHFwbWJz",
        "outputId": "104a68f7-25b2-465d-fcc4-861bccc7361f",
        "colab": {
          "base_uri": "https://localhost:8080/"
        }
      },
      "source": [
        "import pandas as pd\n",
        "import numpy as np\n",
        "import matplotlib.pyplot as plt\n",
        "from google.colab import drive\n",
        "from textblob import TextBlob\n",
        "!pip install readability\n",
        "import readability\n",
        "import string\n",
        "from datetime import datetime\n",
        "\n",
        "from sklearn.model_selection import train_test_split\n",
        "from sklearn.tree import DecisionTreeClassifier\n",
        "from sklearn.ensemble import RandomForestClassifier\n",
        "from sklearn.neighbors import KNeighborsClassifier\n",
        "from sklearn.linear_model import LogisticRegression\n",
        "from sklearn.metrics import accuracy_score\n",
        "from sklearn.metrics import precision_score\n",
        "from sklearn.metrics import recall_score\n",
        "from sklearn.preprocessing import StandardScaler"
      ],
      "execution_count": null,
      "outputs": [
        {
          "output_type": "stream",
          "text": [
            "Collecting readability\n",
            "  Downloading https://files.pythonhosted.org/packages/26/70/6f8750066255d4d2b82b813dd2550e0bd2bee99d026d14088a7b977cd0fc/readability-0.3.1.tar.gz\n",
            "Building wheels for collected packages: readability\n",
            "  Building wheel for readability (setup.py) ... \u001b[?25l\u001b[?25hdone\n",
            "  Created wheel for readability: filename=readability-0.3.1-cp36-none-any.whl size=35463 sha256=f0de58bb4455958d26c5b8766758d812b7211e18274f9d5e0c08492bba3de8f2\n",
            "  Stored in directory: /root/.cache/pip/wheels/36/3f/65/bc327f4cdd5bff9ff510834e07522f94389e28858311b33b41\n",
            "Successfully built readability\n",
            "Installing collected packages: readability\n",
            "Successfully installed readability-0.3.1\n"
          ],
          "name": "stdout"
        }
      ]
    },
    {
      "cell_type": "markdown",
      "metadata": {
        "id": "HJ-Bfy7P-diq"
      },
      "source": [
        "Mount the Google Drive and read in the data"
      ]
    },
    {
      "cell_type": "code",
      "metadata": {
        "id": "u9zseiqGb2A0",
        "outputId": "9f421996-985f-4dd1-a62a-bb702abe7dc5",
        "colab": {
          "base_uri": "https://localhost:8080/"
        }
      },
      "source": [
        "drive.mount('/content/drive')"
      ],
      "execution_count": null,
      "outputs": [
        {
          "output_type": "stream",
          "text": [
            "Mounted at /content/drive\n"
          ],
          "name": "stdout"
        }
      ]
    },
    {
      "cell_type": "code",
      "metadata": {
        "id": "Ykze8pXkcU4g"
      },
      "source": [
        "df = pd.read_csv('/content/drive/My Drive/election_day_tweets.csv')"
      ],
      "execution_count": null,
      "outputs": []
    },
    {
      "cell_type": "code",
      "metadata": {
        "id": "3KR2yyeqcc1S",
        "outputId": "cf54a07e-d858-4911-b536-0389128c0a53",
        "colab": {
          "base_uri": "https://localhost:8080/",
          "height": 467
        }
      },
      "source": [
        "df.head()"
      ],
      "execution_count": null,
      "outputs": [
        {
          "output_type": "execute_result",
          "data": {
            "text/html": [
              "<div>\n",
              "<style scoped>\n",
              "    .dataframe tbody tr th:only-of-type {\n",
              "        vertical-align: middle;\n",
              "    }\n",
              "\n",
              "    .dataframe tbody tr th {\n",
              "        vertical-align: top;\n",
              "    }\n",
              "\n",
              "    .dataframe thead th {\n",
              "        text-align: right;\n",
              "    }\n",
              "</style>\n",
              "<table border=\"1\" class=\"dataframe\">\n",
              "  <thead>\n",
              "    <tr style=\"text-align: right;\">\n",
              "      <th></th>\n",
              "      <th>text</th>\n",
              "      <th>created_at</th>\n",
              "      <th>geo</th>\n",
              "      <th>lang</th>\n",
              "      <th>place</th>\n",
              "      <th>coordinates</th>\n",
              "      <th>user.favourites_count</th>\n",
              "      <th>user.statuses_count</th>\n",
              "      <th>user.description</th>\n",
              "      <th>user.location</th>\n",
              "      <th>user.id</th>\n",
              "      <th>user.created_at</th>\n",
              "      <th>user.verified</th>\n",
              "      <th>user.following</th>\n",
              "      <th>user.url</th>\n",
              "      <th>user.listed_count</th>\n",
              "      <th>user.followers_count</th>\n",
              "      <th>user.default_profile_image</th>\n",
              "      <th>user.utc_offset</th>\n",
              "      <th>user.friends_count</th>\n",
              "      <th>user.default_profile</th>\n",
              "      <th>user.name</th>\n",
              "      <th>user.lang</th>\n",
              "      <th>user.screen_name</th>\n",
              "      <th>user.geo_enabled</th>\n",
              "      <th>user.profile_background_color</th>\n",
              "      <th>user.profile_image_url</th>\n",
              "      <th>user.time_zone</th>\n",
              "      <th>id</th>\n",
              "      <th>favorite_count</th>\n",
              "      <th>retweeted</th>\n",
              "      <th>source</th>\n",
              "      <th>favorited</th>\n",
              "      <th>retweet_count</th>\n",
              "    </tr>\n",
              "  </thead>\n",
              "  <tbody>\n",
              "    <tr>\n",
              "      <th>0</th>\n",
              "      <td>.@Lawrence @HillaryClinton Two first  @SenSchu...</td>\n",
              "      <td>2016-11-08 04:04:37</td>\n",
              "      <td>NaN</td>\n",
              "      <td>en</td>\n",
              "      <td>NaN</td>\n",
              "      <td>NaN</td>\n",
              "      <td>18882</td>\n",
              "      <td>26939</td>\n",
              "      <td>The Specialist, Copyrighted TX0008044160 #Surv...</td>\n",
              "      <td>WorldWide 80Million StealthRUs</td>\n",
              "      <td>22729901</td>\n",
              "      <td>2009-03-04 03:55:45</td>\n",
              "      <td>False</td>\n",
              "      <td>False</td>\n",
              "      <td>https://t.co/rKXNF1G270</td>\n",
              "      <td>374</td>\n",
              "      <td>86551</td>\n",
              "      <td>False</td>\n",
              "      <td>-28800.0</td>\n",
              "      <td>2674</td>\n",
              "      <td>False</td>\n",
              "      <td>Phillip Sheppard</td>\n",
              "      <td>en</td>\n",
              "      <td>PSheppardTV</td>\n",
              "      <td>True</td>\n",
              "      <td>131516</td>\n",
              "      <td>http://pbs.twimg.com/profile_images/7878871945...</td>\n",
              "      <td>America/Los_Angeles</td>\n",
              "      <td>795839414735732737</td>\n",
              "      <td>11</td>\n",
              "      <td>False</td>\n",
              "      <td>Twitter for Android</td>\n",
              "      <td>False</td>\n",
              "      <td>8</td>\n",
              "    </tr>\n",
              "    <tr>\n",
              "      <th>1</th>\n",
              "      <td>My @latimesopinion op-ed on historic #Californ...</td>\n",
              "      <td>2016-11-08 04:08:10</td>\n",
              "      <td>NaN</td>\n",
              "      <td>en</td>\n",
              "      <td>NaN</td>\n",
              "      <td>NaN</td>\n",
              "      <td>8</td>\n",
              "      <td>4841</td>\n",
              "      <td>Hoover Institution research fellow; https://t....</td>\n",
              "      <td>Palo Alto, California</td>\n",
              "      <td>794779346</td>\n",
              "      <td>2012-08-31 22:13:27</td>\n",
              "      <td>False</td>\n",
              "      <td>False</td>\n",
              "      <td>https://t.co/K2fl294qFp</td>\n",
              "      <td>91</td>\n",
              "      <td>1689</td>\n",
              "      <td>False</td>\n",
              "      <td>-28800.0</td>\n",
              "      <td>344</td>\n",
              "      <td>False</td>\n",
              "      <td>Bill Whalen</td>\n",
              "      <td>en</td>\n",
              "      <td>hooverwhalen</td>\n",
              "      <td>True</td>\n",
              "      <td>C0DEED</td>\n",
              "      <td>http://pbs.twimg.com/profile_images/6514470051...</td>\n",
              "      <td>Pacific Time (US &amp; Canada)</td>\n",
              "      <td>795840310597193728</td>\n",
              "      <td>3</td>\n",
              "      <td>False</td>\n",
              "      <td>Twitter Web Client</td>\n",
              "      <td>False</td>\n",
              "      <td>4</td>\n",
              "    </tr>\n",
              "    <tr>\n",
              "      <th>2</th>\n",
              "      <td>#Senate Wisconsin Senate Preview: Johnson vs. ...</td>\n",
              "      <td>2016-11-08 04:11:35</td>\n",
              "      <td>NaN</td>\n",
              "      <td>en</td>\n",
              "      <td>NaN</td>\n",
              "      <td>NaN</td>\n",
              "      <td>728</td>\n",
              "      <td>160390</td>\n",
              "      <td>US SENATE NEWS FEED.  The U.S. Senate is the w...</td>\n",
              "      <td>USA</td>\n",
              "      <td>190890578</td>\n",
              "      <td>2010-09-15 02:41:11</td>\n",
              "      <td>False</td>\n",
              "      <td>False</td>\n",
              "      <td>NaN</td>\n",
              "      <td>798</td>\n",
              "      <td>14726</td>\n",
              "      <td>False</td>\n",
              "      <td>-32400.0</td>\n",
              "      <td>13974</td>\n",
              "      <td>False</td>\n",
              "      <td>Quorum Call</td>\n",
              "      <td>en</td>\n",
              "      <td>QuorumCall</td>\n",
              "      <td>False</td>\n",
              "      <td>473969</td>\n",
              "      <td>http://pbs.twimg.com/profile_images/6155877017...</td>\n",
              "      <td>Alaska</td>\n",
              "      <td>795841168621719552</td>\n",
              "      <td>0</td>\n",
              "      <td>False</td>\n",
              "      <td>dlvr.it</td>\n",
              "      <td>False</td>\n",
              "      <td>0</td>\n",
              "    </tr>\n",
              "    <tr>\n",
              "      <th>3</th>\n",
              "      <td>If Rubio Wins and #Trump Loses in #Florida... ...</td>\n",
              "      <td>2016-11-08 04:12:16</td>\n",
              "      <td>NaN</td>\n",
              "      <td>en</td>\n",
              "      <td>NaN</td>\n",
              "      <td>NaN</td>\n",
              "      <td>0</td>\n",
              "      <td>18105</td>\n",
              "      <td>The most trending Marco Rubio news as collecte...</td>\n",
              "      <td>Washington DC</td>\n",
              "      <td>3175968009</td>\n",
              "      <td>2015-04-17 09:59:55</td>\n",
              "      <td>False</td>\n",
              "      <td>False</td>\n",
              "      <td>http://t.co/TbC8SzlTVN</td>\n",
              "      <td>57</td>\n",
              "      <td>121</td>\n",
              "      <td>False</td>\n",
              "      <td>NaN</td>\n",
              "      <td>96</td>\n",
              "      <td>True</td>\n",
              "      <td>Marco Rubio Trends</td>\n",
              "      <td>nl</td>\n",
              "      <td>Rubiolizer</td>\n",
              "      <td>False</td>\n",
              "      <td>C0DEED</td>\n",
              "      <td>http://pbs.twimg.com/profile_images/5890065307...</td>\n",
              "      <td>NaN</td>\n",
              "      <td>795841341146234880</td>\n",
              "      <td>0</td>\n",
              "      <td>False</td>\n",
              "      <td>Lead Stories Feed Publisher</td>\n",
              "      <td>False</td>\n",
              "      <td>0</td>\n",
              "    </tr>\n",
              "    <tr>\n",
              "      <th>4</th>\n",
              "      <td>#Senate Wisconsin Senate Preview: Johnson vs. ...</td>\n",
              "      <td>2016-11-08 04:16:20</td>\n",
              "      <td>NaN</td>\n",
              "      <td>en</td>\n",
              "      <td>NaN</td>\n",
              "      <td>NaN</td>\n",
              "      <td>4722</td>\n",
              "      <td>247322</td>\n",
              "      <td>News &amp; #ALERTS. We are a large group of proud ...</td>\n",
              "      <td>24hr Live HD Stream Broadcast</td>\n",
              "      <td>2836839353</td>\n",
              "      <td>2014-10-19 04:50:02</td>\n",
              "      <td>False</td>\n",
              "      <td>False</td>\n",
              "      <td>https://t.co/ceRinWzb9I</td>\n",
              "      <td>288</td>\n",
              "      <td>17479</td>\n",
              "      <td>False</td>\n",
              "      <td>-18000.0</td>\n",
              "      <td>2291</td>\n",
              "      <td>False</td>\n",
              "      <td>NTA✪NEWS ROOM™</td>\n",
              "      <td>en</td>\n",
              "      <td>NoThiefs</td>\n",
              "      <td>False</td>\n",
              "      <td>1B95E0</td>\n",
              "      <td>http://pbs.twimg.com/profile_images/7971276617...</td>\n",
              "      <td>Eastern Time (US &amp; Canada)</td>\n",
              "      <td>795842365881782272</td>\n",
              "      <td>0</td>\n",
              "      <td>False</td>\n",
              "      <td>IFTTT</td>\n",
              "      <td>False</td>\n",
              "      <td>0</td>\n",
              "    </tr>\n",
              "  </tbody>\n",
              "</table>\n",
              "</div>"
            ],
            "text/plain": [
              "                                                text  ... retweet_count\n",
              "0  .@Lawrence @HillaryClinton Two first  @SenSchu...  ...             8\n",
              "1  My @latimesopinion op-ed on historic #Californ...  ...             4\n",
              "2  #Senate Wisconsin Senate Preview: Johnson vs. ...  ...             0\n",
              "3  If Rubio Wins and #Trump Loses in #Florida... ...  ...             0\n",
              "4  #Senate Wisconsin Senate Preview: Johnson vs. ...  ...             0\n",
              "\n",
              "[5 rows x 34 columns]"
            ]
          },
          "metadata": {
            "tags": []
          },
          "execution_count": 5
        }
      ]
    },
    {
      "cell_type": "markdown",
      "metadata": {
        "id": "25KuO1rn-oqX"
      },
      "source": [
        "**Explore the dataset**"
      ]
    },
    {
      "cell_type": "code",
      "metadata": {
        "id": "r6QkgJQ_pQRn",
        "outputId": "8441f98c-c678-40ee-cf16-aa4dee9e2259",
        "colab": {
          "base_uri": "https://localhost:8080/"
        }
      },
      "source": [
        "df.columns"
      ],
      "execution_count": null,
      "outputs": [
        {
          "output_type": "execute_result",
          "data": {
            "text/plain": [
              "Index(['text', 'created_at', 'geo', 'lang', 'place', 'coordinates',\n",
              "       'user.favourites_count', 'user.statuses_count', 'user.description',\n",
              "       'user.location', 'user.id', 'user.created_at', 'user.verified',\n",
              "       'user.following', 'user.url', 'user.listed_count',\n",
              "       'user.followers_count', 'user.default_profile_image', 'user.utc_offset',\n",
              "       'user.friends_count', 'user.default_profile', 'user.name', 'user.lang',\n",
              "       'user.screen_name', 'user.geo_enabled', 'user.profile_background_color',\n",
              "       'user.profile_image_url', 'user.time_zone', 'id', 'favorite_count',\n",
              "       'retweeted', 'source', 'favorited', 'retweet_count'],\n",
              "      dtype='object')"
            ]
          },
          "metadata": {
            "tags": []
          },
          "execution_count": 6
        }
      ]
    },
    {
      "cell_type": "code",
      "metadata": {
        "id": "4d3nmN_O-dRV",
        "outputId": "e1a622f5-a790-4a45-9193-056eb2c459f0",
        "colab": {
          "base_uri": "https://localhost:8080/",
          "height": 282
        }
      },
      "source": [
        "# Get value counts on the users\n",
        "counts = df['user.id'].value_counts()[:100]\n",
        "plt.scatter(np.arange(counts.size), counts)"
      ],
      "execution_count": null,
      "outputs": [
        {
          "output_type": "execute_result",
          "data": {
            "text/plain": [
              "<matplotlib.collections.PathCollection at 0x7f27d1d83940>"
            ]
          },
          "metadata": {
            "tags": []
          },
          "execution_count": 7
        },
        {
          "output_type": "display_data",
          "data": {
            "image/png": "[encoded data removed]",
            "text/plain": [
              "<Figure size 432x288 with 1 Axes>"
            ]
          },
          "metadata": {
            "tags": [],
            "needs_background": "light"
          }
        }
      ]
    },
    {
      "cell_type": "code",
      "metadata": {
        "id": "XT56yzK06AdY"
      },
      "source": [
        "mentions_trump = df['text'].apply(lambda x: 'donald' in x.lower() or 'trump' in x.lower())\n",
        "mentions_hillary = df['text'].apply(lambda x: 'hillary' in x.lower() or 'clinton' in x.lower())"
      ],
      "execution_count": null,
      "outputs": []
    },
    {
      "cell_type": "code",
      "metadata": {
        "id": "c62V7SZO6cbN"
      },
      "source": [
        "num_trump_tweets = mentions_trump.sum()\n",
        "num_clinton_tweets = mentions_hillary.sum()\n",
        "num_both = (mentions_trump & mentions_hillary).sum()"
      ],
      "execution_count": null,
      "outputs": []
    },
    {
      "cell_type": "code",
      "metadata": {
        "id": "9phGOTuz6mmD",
        "outputId": "74d8c3c7-f371-452f-cb3e-f0a09512c7f9",
        "colab": {
          "base_uri": "https://localhost:8080/"
        }
      },
      "source": [
        "print(\"Total tweets:\", df['text'].size)\n",
        "print(\"Num tweets mentioning Trump:\", num_trump_tweets)\n",
        "print(\"Num tweets mentioning Clinton:\", num_clinton_tweets)\n",
        "print(\"Num tweets mentioning both:\", num_both)"
      ],
      "execution_count": null,
      "outputs": [
        {
          "output_type": "stream",
          "text": [
            "Total tweets: 397629\n",
            "Num tweets mentioning Trump: 64843\n",
            "Num tweets mentioning Clinton: 42682\n",
            "Num tweets mentioning both: 17513\n"
          ],
          "name": "stdout"
        }
      ]
    },
    {
      "cell_type": "code",
      "metadata": {
        "id": "XrDkVneb8nnZ",
        "outputId": "2f5f8d4c-3a5c-4c0c-8f7f-70d910a76307",
        "colab": {
          "base_uri": "https://localhost:8080/",
          "height": 264
        }
      },
      "source": [
        "sizes = [num_trump_tweets - num_both, num_clinton_tweets - num_both, num_both, df['text'].size + num_both - (num_trump_tweets + num_clinton_tweets)]\n",
        "labels = [\"Trump\", \"Clintion\", \"Both\", \"Other\"]\n",
        "\n",
        "def make_autopct(values):\n",
        "    def my_autopct(pct):\n",
        "        total = sum(values)\n",
        "        val = int(round(pct*total/100.0))\n",
        "        return '{p:.2f}%'.format(p=pct)\n",
        "    return my_autopct\n",
        "\n",
        "plt.pie(sizes, labels=labels, autopct=make_autopct(sizes))\n",
        "plt.title(\"Tweets On Election Day 2016\")\n",
        "plt.show()"
      ],
      "execution_count": null,
      "outputs": [
        {
          "output_type": "display_data",
          "data": {
            "image/png": "[encoded data removed]",
            "text/plain": [
              "<Figure size 432x288 with 1 Axes>"
            ]
          },
          "metadata": {
            "tags": []
          }
        }
      ]
    },
    {
      "cell_type": "code",
      "metadata": {
        "id": "UH7R6qXnAAi4",
        "outputId": "75b4cd01-864e-48b7-9e0c-b6f9172343fa",
        "colab": {
          "base_uri": "https://localhost:8080/"
        }
      },
      "source": [
        "# average hashtags per tweet\n",
        "num_hashtags = df['text'].apply(lambda x: x.count('#'))\n",
        "print(\"Average '#' per tweet:\", num_hashtags.sum() / num_hashtags.size)\n",
        "# average @ signs per tweet\n",
        "num_tags = df['text'].apply(lambda x: x.count('@'))\n",
        "print(\"Average number of '@' per tweet:\", num_tags.sum()/ num_tags.size)"
      ],
      "execution_count": null,
      "outputs": [
        {
          "output_type": "stream",
          "text": [
            "Average '#' per tweet: 1.3594229797122444\n",
            "Average number of '@' per tweet: 0.35360348465529423\n"
          ],
          "name": "stdout"
        }
      ]
    },
    {
      "cell_type": "code",
      "metadata": {
        "id": "GoV2PCH1WJmW",
        "outputId": "3bd57f46-8244-48cf-8bf5-f8b1e08bd227",
        "colab": {
          "base_uri": "https://localhost:8080/"
        }
      },
      "source": [
        "# How many verified tweets are there\n",
        "num_verified_tweets = df['user.verified'].sum()\n",
        "print(\"There are\", num_verified_tweets, \"tweets from verified users in the dataset, which is\", \"{:.2%}\".format(num_verified_tweets/df['user.verified'].size), \"of the dataset.\")\n",
        "\n",
        "num_verified_users = df['user.id'][df['user.verified']].value_counts().size\n",
        "print(\"These tweets come from\", num_verified_users, \"different accounts.\")\n",
        "df['user.id'][df['user.verified']].value_counts()"
      ],
      "execution_count": null,
      "outputs": [
        {
          "output_type": "stream",
          "text": [
            "There are 14593 tweets from verified users in the dataset, which is 3.67% of the dataset.\n",
            "These tweets come from 7845 different accounts.\n"
          ],
          "name": "stdout"
        },
        {
          "output_type": "execute_result",
          "data": {
            "text/plain": [
              "158070493     62\n",
              "2312829909    57\n",
              "39366506      56\n",
              "3683007026    48\n",
              "2982269822    42\n",
              "              ..\n",
              "16205428       1\n",
              "2924521080     1\n",
              "108523129      1\n",
              "233638131      1\n",
              "186875904      1\n",
              "Name: user.id, Length: 7845, dtype: int64"
            ]
          },
          "metadata": {
            "tags": []
          },
          "execution_count": 13
        }
      ]
    },
    {
      "cell_type": "markdown",
      "metadata": {
        "id": "eKw004iG-kWY"
      },
      "source": [
        "**Create new features from the dataset**"
      ]
    },
    {
      "cell_type": "code",
      "metadata": {
        "id": "EZekrnZP713C"
      },
      "source": [
        "df['no_punc'] = df['text'].apply(lambda x: x.translate(str.maketrans('', '', string.punctuation)))\n",
        "df['readability'] = df['no_punc'].apply(lambda x: readability.getmeasures(x, lang='en')['readability grades']['FleschReadingEase'])\n",
        "\n",
        "# Create polarity and subjectivity columns\n",
        "df['sentiment'] = df['text'].apply(lambda x: TextBlob(x).sentiment)\n",
        "df['polarity'] = df['sentiment'].apply(lambda x: x[0])\n",
        "df['subjectivity'] = df['sentiment'].apply(lambda x: x[1])"
      ],
      "execution_count": null,
      "outputs": []
    },
    {
      "cell_type": "markdown",
      "metadata": {
        "id": "l9B7JFRz-1dU"
      },
      "source": [
        "**Create the training and testing data**"
      ]
    },
    {
      "cell_type": "code",
      "metadata": {
        "id": "KN4ZfagZqu0k"
      },
      "source": [
        "X = df[['user.favourites_count', 'user.statuses_count', 'user.followers_count', 'user.friends_count', 'favorite_count', 'retweet_count', 'readability', 'polarity', 'subjectivity']]\n",
        "y = df['user.verified']"
      ],
      "execution_count": null,
      "outputs": []
    },
    {
      "cell_type": "code",
      "metadata": {
        "id": "qZEtADtisLJF",
        "outputId": "294896ab-20af-41f6-e6f7-06e6e6470f07",
        "colab": {
          "base_uri": "https://localhost:8080/"
        }
      },
      "source": [
        "X['years_active'] = 2020 - pd.to_datetime(df['user.created_at']).dt.year"
      ],
      "execution_count": null,
      "outputs": [
        {
          "output_type": "stream",
          "text": [
            "/usr/local/lib/python3.6/dist-packages/ipykernel_launcher.py:1: SettingWithCopyWarning: \n",
            "A value is trying to be set on a copy of a slice from a DataFrame.\n",
            "Try using .loc[row_indexer,col_indexer] = value instead\n",
            "\n",
            "See the caveats in the documentation: https://pandas.pydata.org/pandas-docs/stable/user_guide/indexing.html#returning-a-view-versus-a-copy\n",
            "  \"\"\"Entry point for launching an IPython kernel.\n"
          ],
          "name": "stderr"
        }
      ]
    },
    {
      "cell_type": "code",
      "metadata": {
        "id": "cU_ZkcTHX6Bm",
        "outputId": "9c9340d2-d8af-45bf-f20f-93e1b4fd3b45",
        "colab": {
          "base_uri": "https://localhost:8080/"
        }
      },
      "source": [
        "X.columns"
      ],
      "execution_count": null,
      "outputs": [
        {
          "output_type": "execute_result",
          "data": {
            "text/plain": [
              "Index(['user.favourites_count', 'user.statuses_count', 'user.followers_count',\n",
              "       'user.friends_count', 'favorite_count', 'retweet_count', 'readability',\n",
              "       'polarity', 'subjectivity', 'years_active'],\n",
              "      dtype='object')"
            ]
          },
          "metadata": {
            "tags": []
          },
          "execution_count": 17
        }
      ]
    },
    {
      "cell_type": "code",
      "metadata": {
        "id": "jjEWJtEErWLl"
      },
      "source": [
        "X_train, X_test, y_train, y_test = train_test_split(X, y, test_size=0.25, stratify=y)\n",
        "\n",
        "sc = StandardScaler()\n",
        "X_train_scaled = sc.fit_transform(X_train)\n",
        "X_test_scaled = sc.transform(X_test)"
      ],
      "execution_count": null,
      "outputs": []
    },
    {
      "cell_type": "markdown",
      "metadata": {
        "id": "74_RTjqmAMKJ"
      },
      "source": [
        "**Testing different models**"
      ]
    },
    {
      "cell_type": "code",
      "metadata": {
        "id": "8MBaCMoesFgJ",
        "outputId": "10e67c3f-016d-43a9-8b05-1a1475e4ca53",
        "colab": {
          "base_uri": "https://localhost:8080/"
        }
      },
      "source": [
        "tree_clf = DecisionTreeClassifier(max_depth=3).fit(X_train, y_train)\n",
        "tree_pred = tree_clf.predict(X_test)\n",
        "print(\"Decision Tree Classifier\")\n",
        "print(\"Precision:\", precision_score(y_test, tree_pred))\n",
        "print(\"Recall:\", recall_score(y_test, tree_pred))"
      ],
      "execution_count": null,
      "outputs": [
        {
          "output_type": "stream",
          "text": [
            "Decision Tree Classifier\n",
            "Precision: 0.8784722222222222\n",
            "Recall: 0.2080592105263158\n"
          ],
          "name": "stdout"
        }
      ]
    },
    {
      "cell_type": "code",
      "metadata": {
        "id": "kBojWgsiAtV3",
        "outputId": "65f8ce64-f371-4c97-8b94-29f7af98179d",
        "colab": {
          "base_uri": "https://localhost:8080/",
          "height": 106
        }
      },
      "source": [
        "pd.DataFrame(np.vstack((X_train.columns, tree_clf.feature_importances_)))"
      ],
      "execution_count": null,
      "outputs": [
        {
          "output_type": "execute_result",
          "data": {
            "text/html": [
              "<div>\n",
              "<style scoped>\n",
              "    .dataframe tbody tr th:only-of-type {\n",
              "        vertical-align: middle;\n",
              "    }\n",
              "\n",
              "    .dataframe tbody tr th {\n",
              "        vertical-align: top;\n",
              "    }\n",
              "\n",
              "    .dataframe thead th {\n",
              "        text-align: right;\n",
              "    }\n",
              "</style>\n",
              "<table border=\"1\" class=\"dataframe\">\n",
              "  <thead>\n",
              "    <tr style=\"text-align: right;\">\n",
              "      <th></th>\n",
              "      <th>0</th>\n",
              "      <th>1</th>\n",
              "      <th>2</th>\n",
              "      <th>3</th>\n",
              "      <th>4</th>\n",
              "      <th>5</th>\n",
              "      <th>6</th>\n",
              "      <th>7</th>\n",
              "      <th>8</th>\n",
              "      <th>9</th>\n",
              "    </tr>\n",
              "  </thead>\n",
              "  <tbody>\n",
              "    <tr>\n",
              "      <th>0</th>\n",
              "      <td>user.favourites_count</td>\n",
              "      <td>user.statuses_count</td>\n",
              "      <td>user.followers_count</td>\n",
              "      <td>user.friends_count</td>\n",
              "      <td>favorite_count</td>\n",
              "      <td>retweet_count</td>\n",
              "      <td>readability</td>\n",
              "      <td>polarity</td>\n",
              "      <td>subjectivity</td>\n",
              "      <td>years_active</td>\n",
              "    </tr>\n",
              "    <tr>\n",
              "      <th>1</th>\n",
              "      <td>0</td>\n",
              "      <td>0</td>\n",
              "      <td>0.859929</td>\n",
              "      <td>0.140071</td>\n",
              "      <td>0</td>\n",
              "      <td>0</td>\n",
              "      <td>0</td>\n",
              "      <td>0</td>\n",
              "      <td>0</td>\n",
              "      <td>0</td>\n",
              "    </tr>\n",
              "  </tbody>\n",
              "</table>\n",
              "</div>"
            ],
            "text/plain": [
              "                       0                    1  ...             8             9\n",
              "0  user.favourites_count  user.statuses_count  ...  subjectivity  years_active\n",
              "1                      0                    0  ...             0             0\n",
              "\n",
              "[2 rows x 10 columns]"
            ]
          },
          "metadata": {
            "tags": []
          },
          "execution_count": 20
        }
      ]
    },
    {
      "cell_type": "code",
      "metadata": {
        "id": "o0zBmzy9ugkf",
        "outputId": "a1e0e8db-e4c8-4fef-d12c-e6fd4dc74987",
        "colab": {
          "base_uri": "https://localhost:8080/"
        }
      },
      "source": [
        "random_clf = RandomForestClassifier().fit(X_train, y_train)\n",
        "random_pred = random_clf.predict(X_test)\n",
        "print(\"Random Forest Classifier\")\n",
        "print(\"Precision:\", precision_score(y_test, random_pred))\n",
        "print(\"Recall:\", recall_score(y_test, random_pred))"
      ],
      "execution_count": null,
      "outputs": [
        {
          "output_type": "stream",
          "text": [
            "Random Forest Classifier\n",
            "Precision: 0.8441045880611742\n",
            "Recall: 0.46902412280701755\n"
          ],
          "name": "stdout"
        }
      ]
    },
    {
      "cell_type": "code",
      "metadata": {
        "id": "lWS6HzsduqA9",
        "outputId": "f0642ab7-ac44-41b3-8d2f-54fd0751cd80",
        "colab": {
          "base_uri": "https://localhost:8080/",
          "height": 106
        }
      },
      "source": [
        "pd.DataFrame(np.vstack((X_train.columns, random_clf.feature_importances_)))"
      ],
      "execution_count": null,
      "outputs": [
        {
          "output_type": "execute_result",
          "data": {
            "text/html": [
              "<div>\n",
              "<style scoped>\n",
              "    .dataframe tbody tr th:only-of-type {\n",
              "        vertical-align: middle;\n",
              "    }\n",
              "\n",
              "    .dataframe tbody tr th {\n",
              "        vertical-align: top;\n",
              "    }\n",
              "\n",
              "    .dataframe thead th {\n",
              "        text-align: right;\n",
              "    }\n",
              "</style>\n",
              "<table border=\"1\" class=\"dataframe\">\n",
              "  <thead>\n",
              "    <tr style=\"text-align: right;\">\n",
              "      <th></th>\n",
              "      <th>0</th>\n",
              "      <th>1</th>\n",
              "      <th>2</th>\n",
              "      <th>3</th>\n",
              "      <th>4</th>\n",
              "      <th>5</th>\n",
              "      <th>6</th>\n",
              "      <th>7</th>\n",
              "      <th>8</th>\n",
              "      <th>9</th>\n",
              "    </tr>\n",
              "  </thead>\n",
              "  <tbody>\n",
              "    <tr>\n",
              "      <th>0</th>\n",
              "      <td>user.favourites_count</td>\n",
              "      <td>user.statuses_count</td>\n",
              "      <td>user.followers_count</td>\n",
              "      <td>user.friends_count</td>\n",
              "      <td>favorite_count</td>\n",
              "      <td>retweet_count</td>\n",
              "      <td>readability</td>\n",
              "      <td>polarity</td>\n",
              "      <td>subjectivity</td>\n",
              "      <td>years_active</td>\n",
              "    </tr>\n",
              "    <tr>\n",
              "      <th>1</th>\n",
              "      <td>0.102196</td>\n",
              "      <td>0.119527</td>\n",
              "      <td>0.327294</td>\n",
              "      <td>0.137366</td>\n",
              "      <td>0.0575709</td>\n",
              "      <td>0.0576723</td>\n",
              "      <td>0.0710261</td>\n",
              "      <td>0.0364576</td>\n",
              "      <td>0.0336894</td>\n",
              "      <td>0.0572014</td>\n",
              "    </tr>\n",
              "  </tbody>\n",
              "</table>\n",
              "</div>"
            ],
            "text/plain": [
              "                       0                    1  ...             8             9\n",
              "0  user.favourites_count  user.statuses_count  ...  subjectivity  years_active\n",
              "1               0.102196             0.119527  ...     0.0336894     0.0572014\n",
              "\n",
              "[2 rows x 10 columns]"
            ]
          },
          "metadata": {
            "tags": []
          },
          "execution_count": 22
        }
      ]
    },
    {
      "cell_type": "code",
      "metadata": {
        "id": "v1gPcwKFApGF",
        "outputId": "96e22fc5-b821-4184-8599-26e2e633ab76",
        "colab": {
          "base_uri": "https://localhost:8080/"
        }
      },
      "source": [
        "neigh_clf = KNeighborsClassifier(n_neighbors=5).fit(X_train_scaled, y_train)\n",
        "neigh_pred = neigh_clf.predict(X_test_scaled)\n",
        "print(\"K-Neighbors Classifier\")\n",
        "print(\"Precision\", precision_score(y_test, neigh_pred))\n",
        "print(\"Recall:\", recall_score(y_test, neigh_pred))"
      ],
      "execution_count": null,
      "outputs": [
        {
          "output_type": "stream",
          "text": [
            "K-Neighbors Classifier\n",
            "Precision 0.7712305025996534\n",
            "Recall: 0.24396929824561403\n"
          ],
          "name": "stdout"
        }
      ]
    },
    {
      "cell_type": "code",
      "metadata": {
        "id": "wXRl43g5EnYY",
        "outputId": "3ce6167d-7a37-4028-f508-4ff690338f57",
        "colab": {
          "base_uri": "https://localhost:8080/"
        }
      },
      "source": [
        "log_clf = LogisticRegression(max_iter=1000).fit(X_train_scaled, y_train)\n",
        "log_pred = log_clf.predict(X_test_scaled)\n",
        "print(\"Logistic Regression Classifier\")\n",
        "print(\"Precision\", precision_score(y_test, log_pred))\n",
        "print(\"Recall:\", recall_score(y_test, log_pred))"
      ],
      "execution_count": null,
      "outputs": [
        {
          "output_type": "stream",
          "text": [
            "Logistic Regression Classifier\n",
            "Precision 0.8552361396303901\n",
            "Recall: 0.22834429824561403\n"
          ],
          "name": "stdout"
        }
      ]
    },
    {
      "cell_type": "markdown",
      "metadata": {
        "id": "jcRaK4PT_Kgr"
      },
      "source": [
        "**More investigation**"
      ]
    },
    {
      "cell_type": "code",
      "metadata": {
        "id": "HpUq6fDd-HQ4",
        "outputId": "53c8023e-e2d1-4789-a56f-a9f2f96ee0c4",
        "colab": {
          "base_uri": "https://localhost:8080/",
          "height": 281
        }
      },
      "source": [
        "# Create a histogram of the age of verified accounts\n",
        "years_active = 2020 - pd.to_datetime(df['user.created_at']).dt.year\n",
        "plt.hist(years_active[df['user.verified'] == True], 10)\n",
        "plt.title(\"Ages of Verified Accounts\")\n",
        "plt.show()"
      ],
      "execution_count": null,
      "outputs": [
        {
          "output_type": "display_data",
          "data": {
            "image/png": "[encoded data removed]",
            "text/plain": [
              "<Figure size 432x288 with 1 Axes>"
            ]
          },
          "metadata": {
            "tags": [],
            "needs_background": "light"
          }
        }
      ]
    },
    {
      "cell_type": "code",
      "metadata": {
        "id": "1rrVKzwQfwtc",
        "outputId": "57c3bd44-f229-4533-d1f8-9ae75d31c691",
        "colab": {
          "base_uri": "https://localhost:8080/",
          "height": 281
        }
      },
      "source": [
        "# Create a histogram of the age of all accounts\n",
        "plt.hist(years_active, 10)\n",
        "plt.title(\"Ages of all accounts\")\n",
        "plt.show()"
      ],
      "execution_count": null,
      "outputs": [
        {
          "output_type": "display_data",
          "data": {
            "image/png": "[encoded data removed]",
            "text/plain": [
              "<Figure size 432x288 with 1 Axes>"
            ]
          },
          "metadata": {
            "tags": [],
            "needs_background": "light"
          }
        }
      ]
    },
    {
      "cell_type": "code",
      "metadata": {
        "id": "A-Xs-_pvgbmB"
      },
      "source": [
        ""
      ],
      "execution_count": null,
      "outputs": []
    }
  ]
}